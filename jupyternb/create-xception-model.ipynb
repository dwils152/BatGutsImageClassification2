{
 "cells": [
  {
   "cell_type": "code",
   "execution_count": 1,
   "metadata": {},
   "outputs": [
    {
     "data": {
      "text/plain": [
       "\"\\nCreate the basic model based on the Keras 'Xception' as recommended in Jaswanth's\\n\""
      ]
     },
     "execution_count": 1,
     "metadata": {},
     "output_type": "execute_result"
    }
   ],
   "source": [
    "'''\n",
    "Create the basic model based on the Keras 'Xception' as recommended in Jaswanth's\n",
    "'''\n"
   ]
  },
  {
   "cell_type": "code",
   "execution_count": 2,
   "metadata": {},
   "outputs": [
    {
     "name": "stdout",
     "output_type": "stream",
     "text": [
      "Python version: 3.12.4\n",
      "Loading settings from /Users/thomasyohe/isr/BatGutsImageClassification2/jupyternb/.env\n",
      "my_CONTENT_PATH=/Users/thomasyohe/isr/bguts\n",
      "my_TIF_PATH=/Users/thomasyohe/isr/bguts/tiffs\n"
     ]
    }
   ],
   "source": [
    "env_USE_GOOGLE_COLAB = False\n",
    "env_USE_NVIDIA = False\n",
    "env_CONTENT_PATH = \"\"\n",
    "env_TIF_PATH = \"\"\n",
    "env_MODEL_FILENAME = \"\"\n",
    "env_IMAGE_SHAPE_X = 0\n",
    "env_IMAGE_SHAPE_Y = 0\n",
    "import sys\n",
    "from settings import load_BatGutsSettings, show_python_version, corr2\n",
    "show_python_version()\n",
    "\n",
    "S = load_BatGutsSettings()\n",
    "env_CONTENT_PATH = S.zContentPath\n",
    "env_TIF_PATH = S.zTifPath\n",
    "env_USE_GOOGLE_COLAB = S.useGoogleColab\n",
    "env_USE_NVIDIA = S.useNvidia\n",
    "env_MODEL_FILENAME = S.zModelFilename\n",
    "env_IMAGE_SHAPE_X = S.imageShapeX\n",
    "env_IMAGE_SHAPE_Y = S.imageShapeY\n",
    "if len(env_CONTENT_PATH) == 0:\n",
    "    sys.exit(\"Exiting the script because setings were not processed\")"
   ]
  },
  {
   "cell_type": "code",
   "execution_count": 3,
   "metadata": {},
   "outputs": [
    {
     "name": "stdout",
     "output_type": "stream",
     "text": [
      "The current working directory is: /Users/thomasyohe/isr/bguts\n",
      "The file 'IVP_MODEL.keras' does not exist. Proceeding...\n",
      "Saving model to /Users/thomasyohe/isr/bguts/IVP_MODEL.keras\n"
     ]
    }
   ],
   "source": [
    "import tensorflow as tf\n",
    "from tensorflow import keras\n",
    "import os\n",
    "zDir = env_CONTENT_PATH\n",
    "\n",
    "os.chdir( zDir)\n",
    "print( \"The current working directory is: \" + os.getcwd() )\n",
    "\n",
    "# Create the Xception model\n",
    "model = keras.applications.Xception(\n",
    "    include_top=True,\n",
    "    weights=\"imagenet\",\n",
    "    input_shape=(env_IMAGE_SHAPE_X, env_IMAGE_SHAPE_Y, 3),\n",
    "    classes=1000,\n",
    "    classifier_activation=\"softmax\"\n",
    ")\n",
    "\n",
    "# If you want to modify the model for a different number of classes:\n",
    "# num_classes = 10  # Replace with your desired number of classes\n",
    "# x = model.layers[-2].output\n",
    "# output = keras.layers.Dense(num_classes, activation='softmax')(x)\n",
    "# model = keras.Model(inputs=model.input, outputs=output)\n",
    "\n",
    "# Compile the model\n",
    "model.compile(\n",
    "    optimizer='adam',\n",
    "    loss='categorical_crossentropy',\n",
    "    metrics=['accuracy']\n",
    ")\n",
    "\n",
    "# Save the model\n",
    "zCwd = os.getcwd();\n",
    "import os\n",
    "from IPython.display import clear_output\n",
    "\n",
    "file_name = env_MODEL_FILENAME  # Replace with your actual filename\n",
    "\n",
    "if os.path.exists(file_name):\n",
    "    print(f\"The file '{file_name}' already exists.\")\n",
    "    \n",
    "    while True:\n",
    "        user_input = input(\"Do you want to continue and potentially overwrite it? (yes/no): \").lower().strip()\n",
    "        clear_output(wait=True)  # This clears the output for a cleaner display\n",
    "        \n",
    "        if user_input in ['yes', 'y']:\n",
    "            print(\"Continuing with the process...\")\n",
    "            # Your code to continue goes here\n",
    "            break\n",
    "        elif user_input in ['no', 'n']:\n",
    "            print(\"Operation cancelled.\")\n",
    "            # Your code to handle cancellation goes here\n",
    "            exit\n",
    "            break\n",
    "        else:\n",
    "            print(\"Invalid input. Please enter 'yes' or 'no'.\")\n",
    "else:\n",
    "    print(f\"The file '{file_name}' does not exist. Proceeding...\")\n",
    "    # Your code to proceed when the file doesn't exist goes here\n",
    "\n",
    "print(\"Saving model to \" + zCwd + \"/\" + env_MODEL_FILENAME )\n",
    "model.save( env_MODEL_FILENAME )"
   ]
  }
 ],
 "metadata": {
  "kernelspec": {
   "display_name": "Python 3",
   "language": "python",
   "name": "python3"
  },
  "language_info": {
   "codemirror_mode": {
    "name": "ipython",
    "version": 3
   },
   "file_extension": ".py",
   "mimetype": "text/x-python",
   "name": "python",
   "nbconvert_exporter": "python",
   "pygments_lexer": "ipython3",
   "version": "3.12.4"
  }
 },
 "nbformat": 4,
 "nbformat_minor": 2
}
