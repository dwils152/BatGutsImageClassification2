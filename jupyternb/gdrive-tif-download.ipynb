{
 "cells": [
  {
   "cell_type": "code",
   "execution_count": null,
   "metadata": {},
   "outputs": [],
   "source": [
    "env_USE_GOOGLE_COLAB = False\n",
    "env_USE_NVIDIA = False\n",
    "env_CONTENT_PATH = \"\"\n",
    "env_TIF_PATH = \"\"\n",
    "import sys\n",
    "from settings import load_BatGutsSettings, show_python_version\n",
    "show_python_version()\n",
    "\n",
    "S = load_BatGutsSettings()\n",
    "env_CONTENT_PATH = S.zContentPath\n",
    "env_TIF_PATH = S.zTifPath\n",
    "env_USE_GOOGLE_COLAB = S.useGoogleColab\n",
    "env_USE_NVIDIA = S.useNvidia\n",
    "if len(env_CONTENT_PATH) == 0:\n",
    "    sys.exit(\"Exiting the script because setings were not processed\")"
   ]
  },
  {
   "cell_type": "code",
   "execution_count": null,
   "metadata": {},
   "outputs": [],
   "source": [
    "# Import necessary libraries\n",
    "import pickle\n",
    "import os.path\n",
    "from googleapiclient.discovery import build\n",
    "from google_auth_oauthlib.flow import InstalledAppFlow\n",
    "from google.auth.transport.requests import Request\n",
    "\n",
    "# If modifying these scopes, delete the file token.pickle.\n",
    "SCOPES = ['https://www.googleapis.com/auth/drive.metadata.readonly']\n",
    "\n",
    "def get_google_drive_service():\n",
    "    creds = None\n",
    "    # The file token.pickle stores the user's access and refresh tokens, and is\n",
    "    # created automatically when the authorization flow completes for the first time.\n",
    "    if os.path.exists('token.pickle'):\n",
    "        with open('token.pickle', 'rb') as token:\n",
    "            creds = pickle.load(token)\n",
    "    # If there are no (valid) credentials available, let the user log in.\n",
    "    if not creds or not creds.valid:\n",
    "        if creds and creds.expired and creds.refresh_token:\n",
    "            creds.refresh(Request())\n",
    "        else:\n",
    "            flow = InstalledAppFlow.from_client_secrets_file(\n",
    "                'credentials.json', SCOPES)\n",
    "            creds = flow.run_local_server(port=0)\n",
    "        # Save the credentials for the next run\n",
    "        with open('token.pickle', 'wb') as token:\n",
    "            pickle.dump(creds, token)\n",
    "\n",
    "    service = build('drive', 'v3', credentials=creds)\n",
    "    return service\n",
    "\n",
    "def list_folders(service):\n",
    "    results = service.files().list(\n",
    "        q=\"mimeType='application/vnd.google-apps.folder'\",\n",
    "        pageSize=1000,\n",
    "        fields=\"nextPageToken, files(id, name)\").execute()\n",
    "    items = results.get('files', [])\n",
    "\n",
    "    if not items:\n",
    "        print('No folders found.')\n",
    "    else:\n",
    "        print('Folders:')\n",
    "        for item in items:\n",
    "            print(u'{0} ({1})'.format(item['name'], item['id']))\n",
    "\n",
    "service = get_google_drive_service()\n",
    "list_folders(service)"
   ]
  }
 ],
 "metadata": {
  "kernelspec": {
   "display_name": "Python 3",
   "language": "python",
   "name": "python3"
  },
  "language_info": {
   "codemirror_mode": {
    "name": "ipython",
    "version": 3
   },
   "file_extension": ".py",
   "mimetype": "text/x-python",
   "name": "python",
   "nbconvert_exporter": "python",
   "pygments_lexer": "ipython3",
   "version": "3.11.5"
  }
 },
 "nbformat": 4,
 "nbformat_minor": 2
}
