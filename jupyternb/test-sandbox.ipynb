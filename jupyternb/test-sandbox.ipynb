{
 "cells": [
  {
   "cell_type": "code",
   "execution_count": 2,
   "metadata": {},
   "outputs": [
    {
     "name": "stdout",
     "output_type": "stream",
     "text": [
      "Loading settings from /Users/thomasyohe/isr/BatGutsImageClassification2/jupyternb/.env\n",
      "my_CONTENT_PATH=/Users/thomasyohe/isr/bguts\n"
     ]
    }
   ],
   "source": [
    "env_USE_GOOGLE_COLAB = False\n",
    "env_USE_NVIDIA = False\n",
    "env_CONTENT_PATH = \"\"\n",
    "import sys\n",
    "from settings import load_BatGutsSettings\n",
    "S = load_BatGutsSettings()\n",
    "env_CONTENT_PATH = S.zContentPath\n",
    "env_USE_GOOGLE_COLAB = S.useGoogleColab\n",
    "env_USE_NVIDIA = S.useNvidia\n",
    "if len(env_CONTENT_PATH) == 0:\n",
    "    sys.exit(\"Exiting the script because setings were not processed\")"
   ]
  }
 ],
 "metadata": {
  "kernelspec": {
   "display_name": "Python 3",
   "language": "python",
   "name": "python3"
  },
  "language_info": {
   "codemirror_mode": {
    "name": "ipython",
    "version": 3
   },
   "file_extension": ".py",
   "mimetype": "text/x-python",
   "name": "python",
   "nbconvert_exporter": "python",
   "pygments_lexer": "ipython3",
   "version": "3.11.5"
  }
 },
 "nbformat": 4,
 "nbformat_minor": 2
}
