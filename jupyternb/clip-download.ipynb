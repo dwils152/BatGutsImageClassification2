{
 "cells": [
  {
   "cell_type": "code",
   "execution_count": null,
   "metadata": {},
   "outputs": [],
   "source": [
    "env_USE_GOOGLE_COLAB = False\n",
    "env_USE_NVIDIA = False\n",
    "env_CONTENT_PATH = \"\"\n",
    "env_TIF_PATH = \"\"\n",
    "import sys\n",
    "from settings import load_BatGutsSettings\n",
    "S = load_BatGutsSettings()\n",
    "env_CONTENT_PATH = S.zContentPath\n",
    "env_TIF_PATH = S.zTifPath\n",
    "env_USE_GOOGLE_COLAB = S.useGoogleColab\n",
    "env_USE_NVIDIA = S.useNvidia\n",
    "if len(env_CONTENT_PATH) == 0:\n",
    "    sys.exit(\"Exiting the script because setings were not processed\")"
   ]
  },
  {
   "cell_type": "code",
   "execution_count": null,
   "metadata": {},
   "outputs": [],
   "source": [
    "\n",
    "\n",
    "# Import necessary libraries\n",
    "import pickle\n",
    "from transformers import CLIPProcessor, CLIPModel\n",
    "\n",
    "# Load the CLIP model and processor from Hugging Face\n",
    "model = CLIPModel.from_pretrained(\"openai/clip-vit-base-patch32\")\n",
    "processor = CLIPProcessor.from_pretrained(\"openai/clip-vit-base-patch32\")\n",
    "\n",
    "# Save the model and processor as pickle files\n",
    "file_path = env_CONTENT_PATH + \"/clip_model.pkl\"\n",
    "with open( file_path, 'wb') as model_file:\n",
    "    pickle.dump(model, model_file)\n",
    "\n",
    "print(\"Model file saved as \" + file_path )\n",
    "\n",
    "file_path = env_CONTENT_PATH + \"/clip_processor.pkl\"\n",
    "with open( file_path, 'wb') as processor_file:\n",
    "    pickle.dump(processor, processor_file)\n",
    "\n",
    "print(\"Processor file saved as \" + file_path )"
   ]
  },
  {
   "cell_type": "code",
   "execution_count": null,
   "metadata": {},
   "outputs": [],
   "source": [
    "import ipywidgets as widgets\n",
    "from IPython.display import display\n",
    "\n",
    "# Define the options for the radio buttons\n",
    "options = ['Plants', 'Insects', 'Blood']\n",
    "\n",
    "# Create the RadioButtons widget\n",
    "radio_buttons = widgets.RadioButtons(\n",
    "    options=options,\n",
    "    description='Pick destination subfolder:',\n",
    "    disabled=False\n",
    ")\n",
    "\n",
    "# Create an output widget to display the result\n",
    "output = widgets.Output()\n",
    "\n",
    "zSubfolder = ''\n",
    "# Define a function to process the selection\n",
    "def process_selection(change):\n",
    "    with output:\n",
    "        output.clear_output()\n",
    "        selected_option = change.new\n",
    "        print(f\"You selected: {selected_option}\")\n",
    "        zSubfolder = selected_option\n",
    "\n",
    "# Observe changes in the radio button selection\n",
    "radio_buttons.observe(process_selection, names='value')\n",
    "\n",
    "# Display the widget and output\n",
    "display(radio_buttons, output)\n",
    "print('The subfolder is ' + zSubfolder)"
   ]
  }
 ],
 "metadata": {
  "kernelspec": {
   "display_name": "Python 3",
   "language": "python",
   "name": "python3"
  },
  "language_info": {
   "codemirror_mode": {
    "name": "ipython",
    "version": 3
   },
   "file_extension": ".py",
   "mimetype": "text/x-python",
   "name": "python",
   "nbconvert_exporter": "python",
   "pygments_lexer": "ipython3",
   "version": "3.11.5"
  }
 },
 "nbformat": 4,
 "nbformat_minor": 2
}
